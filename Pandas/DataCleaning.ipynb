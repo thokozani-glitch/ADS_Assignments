{
 "cells": [
  {
   "cell_type": "code",
   "execution_count": 2,
   "id": "a4e59eef",
   "metadata": {},
   "outputs": [],
   "source": [
    "import pandas as pd"
   ]
  },
  {
   "cell_type": "code",
   "execution_count": 5,
   "id": "0ac8cbcf",
   "metadata": {},
   "outputs": [
    {
     "data": {
      "text/html": [
       "<div>\n",
       "<style scoped>\n",
       "    .dataframe tbody tr th:only-of-type {\n",
       "        vertical-align: middle;\n",
       "    }\n",
       "\n",
       "    .dataframe tbody tr th {\n",
       "        vertical-align: top;\n",
       "    }\n",
       "\n",
       "    .dataframe thead th {\n",
       "        text-align: right;\n",
       "    }\n",
       "</style>\n",
       "<table border=\"1\" class=\"dataframe\">\n",
       "  <thead>\n",
       "    <tr style=\"text-align: right;\">\n",
       "      <th></th>\n",
       "      <th>NAME</th>\n",
       "      <th>CITY</th>\n",
       "      <th>COUNTRY</th>\n",
       "      <th>HEIGHT</th>\n",
       "      <th>WEIGHT</th>\n",
       "      <th>ACCOUNT A</th>\n",
       "      <th>ACCOUNT B</th>\n",
       "      <th>TOTAL ACCOUNT</th>\n",
       "    </tr>\n",
       "  </thead>\n",
       "  <tbody>\n",
       "    <tr>\n",
       "      <th>0</th>\n",
       "      <td>Adi Dako</td>\n",
       "      <td>LISBON</td>\n",
       "      <td>PORTUGAL</td>\n",
       "      <td>56</td>\n",
       "      <td>132.0</td>\n",
       "      <td>2390.0</td>\n",
       "      <td>4340</td>\n",
       "      <td>6730</td>\n",
       "    </tr>\n",
       "    <tr>\n",
       "      <th>1</th>\n",
       "      <td>John Paul</td>\n",
       "      <td>LONDON</td>\n",
       "      <td>UNITED KINGDOM</td>\n",
       "      <td>62</td>\n",
       "      <td>165.0</td>\n",
       "      <td>4500.0</td>\n",
       "      <td>34334</td>\n",
       "      <td>38834</td>\n",
       "    </tr>\n",
       "    <tr>\n",
       "      <th>2</th>\n",
       "      <td>Cindy Jules</td>\n",
       "      <td>Stockholm</td>\n",
       "      <td>Sweden</td>\n",
       "      <td>48</td>\n",
       "      <td>117.0</td>\n",
       "      <td>NaN</td>\n",
       "      <td>5504</td>\n",
       "      <td>8949</td>\n",
       "    </tr>\n",
       "    <tr>\n",
       "      <th>3</th>\n",
       "      <td>Arthur Kegels</td>\n",
       "      <td>BRUSSELS</td>\n",
       "      <td>BELGIUM</td>\n",
       "      <td>59</td>\n",
       "      <td>121.0</td>\n",
       "      <td>4344.0</td>\n",
       "      <td>8999</td>\n",
       "      <td>300</td>\n",
       "    </tr>\n",
       "    <tr>\n",
       "      <th>4</th>\n",
       "      <td>Freya Bismark</td>\n",
       "      <td>Berlin</td>\n",
       "      <td>GERMANYY</td>\n",
       "      <td>53</td>\n",
       "      <td>126.0</td>\n",
       "      <td>7000.0</td>\n",
       "      <td>19000</td>\n",
       "      <td>26000</td>\n",
       "    </tr>\n",
       "  </tbody>\n",
       "</table>\n",
       "</div>"
      ],
      "text/plain": [
       "                NAME        CITY         COUNTRY  HEIGHT  WEIGHT  ACCOUNT A  \\\n",
       "0          Adi Dako   LISBON       PORTUGAL           56   132.0     2390.0   \n",
       "1          John Paul   LONDON     UNITED KINGDOM      62   165.0     4500.0   \n",
       "2        Cindy Jules   Stockholm          Sweden      48   117.0        NaN   \n",
       "3      Arthur Kegels    BRUSSELS         BELGIUM      59   121.0     4344.0   \n",
       "4      Freya Bismark      Berlin        GERMANYY      53   126.0     7000.0   \n",
       "\n",
       "   ACCOUNT B  TOTAL ACCOUNT  \n",
       "0       4340           6730  \n",
       "1      34334          38834  \n",
       "2       5504           8949  \n",
       "3       8999            300  \n",
       "4      19000          26000  "
      ]
     },
     "execution_count": 5,
     "metadata": {},
     "output_type": "execute_result"
    }
   ],
   "source": [
    "df = pd.read_csv('DataCleaningDataset.csv', sep=';')\n",
    "df.head()"
   ]
  },
  {
   "cell_type": "code",
   "execution_count": 8,
   "id": "893ab7c2",
   "metadata": {},
   "outputs": [
    {
     "data": {
      "text/plain": [
       "Index(['NAME', 'CITY', 'COUNTRY', 'HEIGHT', 'WEIGHT', 'ACCOUNT A', 'ACCOUNT B',\n",
       "       'TOTAL ACCOUNT'],\n",
       "      dtype='object')"
      ]
     },
     "execution_count": 8,
     "metadata": {},
     "output_type": "execute_result"
    }
   ],
   "source": [
    "df.columns"
   ]
  },
  {
   "cell_type": "code",
   "execution_count": 6,
   "id": "9f228a29",
   "metadata": {},
   "outputs": [
    {
     "data": {
      "text/plain": [
       "(8, 8)"
      ]
     },
     "execution_count": 6,
     "metadata": {},
     "output_type": "execute_result"
    }
   ],
   "source": [
    "df.shape"
   ]
  },
  {
   "cell_type": "code",
   "execution_count": 7,
   "id": "6ae78ff1",
   "metadata": {},
   "outputs": [
    {
     "name": "stdout",
     "output_type": "stream",
     "text": [
      "<class 'pandas.core.frame.DataFrame'>\n",
      "RangeIndex: 8 entries, 0 to 7\n",
      "Data columns (total 8 columns):\n",
      " #   Column         Non-Null Count  Dtype  \n",
      "---  ------         --------------  -----  \n",
      " 0   NAME           8 non-null      object \n",
      " 1   CITY           8 non-null      object \n",
      " 2   COUNTRY        8 non-null      object \n",
      " 3   HEIGHT         8 non-null      int64  \n",
      " 4   WEIGHT         7 non-null      float64\n",
      " 5   ACCOUNT A      7 non-null      float64\n",
      " 6   ACCOUNT B      8 non-null      int64  \n",
      " 7   TOTAL ACCOUNT  8 non-null      int64  \n",
      "dtypes: float64(2), int64(3), object(3)\n",
      "memory usage: 640.0+ bytes\n"
     ]
    }
   ],
   "source": [
    "df.info()"
   ]
  },
  {
   "cell_type": "code",
   "execution_count": 9,
   "id": "d06a1134",
   "metadata": {},
   "outputs": [
    {
     "data": {
      "text/plain": [
       "Index(['Rank', 'Name', 'Platform', 'Year', 'Genre', 'Publisher', 'NA_Sales',\n",
       "       'EU_Sales', 'JP_Sales', 'Other_Sales', 'Global_Sales'],\n",
       "      dtype='object')"
      ]
     },
     "execution_count": 9,
     "metadata": {},
     "output_type": "execute_result"
    }
   ],
   "source": [
    "df2 = pd.read_csv('data/vgsales.csv')\n",
    "df2.columns"
   ]
  },
  {
   "cell_type": "code",
   "execution_count": null,
   "id": "e247d54a",
   "metadata": {},
   "outputs": [],
   "source": []
  }
 ],
 "metadata": {
  "kernelspec": {
   "display_name": "Python 3 (ipykernel)",
   "language": "python",
   "name": "python3"
  },
  "language_info": {
   "codemirror_mode": {
    "name": "ipython",
    "version": 3
   },
   "file_extension": ".py",
   "mimetype": "text/x-python",
   "name": "python",
   "nbconvert_exporter": "python",
   "pygments_lexer": "ipython3",
   "version": "3.9.13"
  }
 },
 "nbformat": 4,
 "nbformat_minor": 5
}
