{
 "cells": [
  {
   "cell_type": "markdown",
   "metadata": {
    "id": "m0tgCkvzPLEa"
   },
   "source": [
    "# Data Investigation with Pandas Assignment"
   ]
  },
  {
   "cell_type": "markdown",
   "metadata": {
    "id": "VSnOCZ5-IPCi"
   },
   "source": [
    "## 1.0 Importing our Libraries"
   ]
  },
  {
   "cell_type": "code",
   "execution_count": 2,
   "metadata": {
    "id": "3r-KDLvrO44a"
   },
   "outputs": [],
   "source": [
    "# Importing the libraries we will need\n",
    "\n",
    "# Importing the pandas library\n",
    "#\n",
    "import pandas as pd\n",
    "\n",
    "# Importing the numpy library\n",
    "#\n",
    "import numpy as np"
   ]
  },
  {
   "cell_type": "markdown",
   "metadata": {
    "id": "HToJZ2gBPawZ"
   },
   "source": [
    "## 1.1 Reading the Dataset from our CSV file\n",
    "\n"
   ]
  },
  {
   "cell_type": "markdown",
   "metadata": {
    "id": "LBUr8VUXQX-K"
   },
   "source": [
    "\n",
    "\n",
    "The dataset we will use contains information about the 2009 Census - The Rural Urban Population by Age, Sex and District.\n",
    "\n",
    "\n",
    "\n",
    "\n"
   ]
  },
  {
   "cell_type": "code",
   "execution_count": 3,
   "metadata": {
    "id": "1acwmZanRNHs"
   },
   "outputs": [
    {
     "data": {
      "text/plain": [
       "Index(['District', 'Urban/Rural', 'Age_years', 'Male', 'Female', 'Total',\n",
       "       'County', 'Province', 'OBJECTID'],\n",
       "      dtype='object')"
      ]
     },
     "execution_count": 3,
     "metadata": {},
     "output_type": "execute_result"
    }
   ],
   "source": [
    "# Let's read the data from the CSV file and create the dataframe to be used\n",
    "#\n",
    "census = pd.read_csv('Rural_Urban_Population_By_Age_Sex_and_by_District__2009.csv')\n",
    "census.columns"
   ]
  },
  {
   "cell_type": "code",
   "execution_count": 4,
   "metadata": {},
   "outputs": [
    {
     "data": {
      "text/plain": [
       "(25420, 9)"
      ]
     },
     "execution_count": 4,
     "metadata": {},
     "output_type": "execute_result"
    }
   ],
   "source": [
    "# Check the number of rows and columns available\n",
    "census.shape"
   ]
  },
  {
   "cell_type": "markdown",
   "metadata": {
    "id": "IICLGbvBRYHq"
   },
   "source": [
    "## 1.2 Previewing our Dataset\n"
   ]
  },
  {
   "cell_type": "code",
   "execution_count": 5,
   "metadata": {
    "id": "WrwHg-hzR5BY"
   },
   "outputs": [
    {
     "data": {
      "text/html": [
       "<div>\n",
       "<style scoped>\n",
       "    .dataframe tbody tr th:only-of-type {\n",
       "        vertical-align: middle;\n",
       "    }\n",
       "\n",
       "    .dataframe tbody tr th {\n",
       "        vertical-align: top;\n",
       "    }\n",
       "\n",
       "    .dataframe thead th {\n",
       "        text-align: right;\n",
       "    }\n",
       "</style>\n",
       "<table border=\"1\" class=\"dataframe\">\n",
       "  <thead>\n",
       "    <tr style=\"text-align: right;\">\n",
       "      <th></th>\n",
       "      <th>District</th>\n",
       "      <th>Urban/Rural</th>\n",
       "      <th>Age_years</th>\n",
       "      <th>Male</th>\n",
       "      <th>Female</th>\n",
       "      <th>Total</th>\n",
       "      <th>County</th>\n",
       "      <th>Province</th>\n",
       "      <th>OBJECTID</th>\n",
       "    </tr>\n",
       "  </thead>\n",
       "  <tbody>\n",
       "    <tr>\n",
       "      <th>0</th>\n",
       "      <td>NAIROBI WEST</td>\n",
       "      <td>Urban</td>\n",
       "      <td>0</td>\n",
       "      <td>10126</td>\n",
       "      <td>10116</td>\n",
       "      <td>20242</td>\n",
       "      <td>Nairobi</td>\n",
       "      <td>NAIROBI</td>\n",
       "      <td>0</td>\n",
       "    </tr>\n",
       "    <tr>\n",
       "      <th>1</th>\n",
       "      <td>NAIROBI WEST</td>\n",
       "      <td>Urban</td>\n",
       "      <td>1</td>\n",
       "      <td>8124</td>\n",
       "      <td>7989</td>\n",
       "      <td>16113</td>\n",
       "      <td>Nairobi</td>\n",
       "      <td>NAIROBI</td>\n",
       "      <td>1</td>\n",
       "    </tr>\n",
       "    <tr>\n",
       "      <th>2</th>\n",
       "      <td>NAIROBI WEST</td>\n",
       "      <td>Urban</td>\n",
       "      <td>2</td>\n",
       "      <td>8462</td>\n",
       "      <td>8627</td>\n",
       "      <td>17089</td>\n",
       "      <td>Nairobi</td>\n",
       "      <td>NAIROBI</td>\n",
       "      <td>2</td>\n",
       "    </tr>\n",
       "    <tr>\n",
       "      <th>3</th>\n",
       "      <td>NAIROBI WEST</td>\n",
       "      <td>Urban</td>\n",
       "      <td>3</td>\n",
       "      <td>8334</td>\n",
       "      <td>8420</td>\n",
       "      <td>16754</td>\n",
       "      <td>Nairobi</td>\n",
       "      <td>NAIROBI</td>\n",
       "      <td>3</td>\n",
       "    </tr>\n",
       "    <tr>\n",
       "      <th>4</th>\n",
       "      <td>NAIROBI WEST</td>\n",
       "      <td>Urban</td>\n",
       "      <td>4</td>\n",
       "      <td>7948</td>\n",
       "      <td>7820</td>\n",
       "      <td>15768</td>\n",
       "      <td>Nairobi</td>\n",
       "      <td>NAIROBI</td>\n",
       "      <td>4</td>\n",
       "    </tr>\n",
       "    <tr>\n",
       "      <th>5</th>\n",
       "      <td>NAIROBI WEST</td>\n",
       "      <td>Urban</td>\n",
       "      <td>5</td>\n",
       "      <td>7547</td>\n",
       "      <td>7660</td>\n",
       "      <td>15207</td>\n",
       "      <td>Nairobi</td>\n",
       "      <td>NAIROBI</td>\n",
       "      <td>5</td>\n",
       "    </tr>\n",
       "    <tr>\n",
       "      <th>6</th>\n",
       "      <td>NAIROBI WEST</td>\n",
       "      <td>Urban</td>\n",
       "      <td>6</td>\n",
       "      <td>6966</td>\n",
       "      <td>7082</td>\n",
       "      <td>14048</td>\n",
       "      <td>Nairobi</td>\n",
       "      <td>NAIROBI</td>\n",
       "      <td>6</td>\n",
       "    </tr>\n",
       "    <tr>\n",
       "      <th>7</th>\n",
       "      <td>NAIROBI WEST</td>\n",
       "      <td>Urban</td>\n",
       "      <td>7</td>\n",
       "      <td>6511</td>\n",
       "      <td>6674</td>\n",
       "      <td>13185</td>\n",
       "      <td>Nairobi</td>\n",
       "      <td>NAIROBI</td>\n",
       "      <td>7</td>\n",
       "    </tr>\n",
       "    <tr>\n",
       "      <th>8</th>\n",
       "      <td>NAIROBI WEST</td>\n",
       "      <td>Urban</td>\n",
       "      <td>8</td>\n",
       "      <td>6171</td>\n",
       "      <td>6489</td>\n",
       "      <td>12660</td>\n",
       "      <td>Nairobi</td>\n",
       "      <td>NAIROBI</td>\n",
       "      <td>8</td>\n",
       "    </tr>\n",
       "    <tr>\n",
       "      <th>9</th>\n",
       "      <td>NAIROBI WEST</td>\n",
       "      <td>Urban</td>\n",
       "      <td>9</td>\n",
       "      <td>6361</td>\n",
       "      <td>6662</td>\n",
       "      <td>13023</td>\n",
       "      <td>Nairobi</td>\n",
       "      <td>NAIROBI</td>\n",
       "      <td>9</td>\n",
       "    </tr>\n",
       "  </tbody>\n",
       "</table>\n",
       "</div>"
      ],
      "text/plain": [
       "       District Urban/Rural Age_years   Male  Female  Total   County Province  \\\n",
       "0  NAIROBI WEST       Urban         0  10126   10116  20242  Nairobi  NAIROBI   \n",
       "1  NAIROBI WEST       Urban         1   8124    7989  16113  Nairobi  NAIROBI   \n",
       "2  NAIROBI WEST       Urban         2   8462    8627  17089  Nairobi  NAIROBI   \n",
       "3  NAIROBI WEST       Urban         3   8334    8420  16754  Nairobi  NAIROBI   \n",
       "4  NAIROBI WEST       Urban         4   7948    7820  15768  Nairobi  NAIROBI   \n",
       "5  NAIROBI WEST       Urban         5   7547    7660  15207  Nairobi  NAIROBI   \n",
       "6  NAIROBI WEST       Urban         6   6966    7082  14048  Nairobi  NAIROBI   \n",
       "7  NAIROBI WEST       Urban         7   6511    6674  13185  Nairobi  NAIROBI   \n",
       "8  NAIROBI WEST       Urban         8   6171    6489  12660  Nairobi  NAIROBI   \n",
       "9  NAIROBI WEST       Urban         9   6361    6662  13023  Nairobi  NAIROBI   \n",
       "\n",
       "   OBJECTID  \n",
       "0         0  \n",
       "1         1  \n",
       "2         2  \n",
       "3         3  \n",
       "4         4  \n",
       "5         5  \n",
       "6         6  \n",
       "7         7  \n",
       "8         8  \n",
       "9         9  "
      ]
     },
     "execution_count": 5,
     "metadata": {},
     "output_type": "execute_result"
    }
   ],
   "source": [
    "# Let's preview the first 10 rows of our data\n",
    "#\n",
    "census.head(10)"
   ]
  },
  {
   "cell_type": "code",
   "execution_count": 6,
   "metadata": {},
   "outputs": [
    {
     "data": {
      "text/html": [
       "<div>\n",
       "<style scoped>\n",
       "    .dataframe tbody tr th:only-of-type {\n",
       "        vertical-align: middle;\n",
       "    }\n",
       "\n",
       "    .dataframe tbody tr th {\n",
       "        vertical-align: top;\n",
       "    }\n",
       "\n",
       "    .dataframe thead th {\n",
       "        text-align: right;\n",
       "    }\n",
       "</style>\n",
       "<table border=\"1\" class=\"dataframe\">\n",
       "  <thead>\n",
       "    <tr style=\"text-align: right;\">\n",
       "      <th></th>\n",
       "      <th>District</th>\n",
       "      <th>Urban/Rural</th>\n",
       "      <th>Age_years</th>\n",
       "      <th>Male</th>\n",
       "      <th>Female</th>\n",
       "      <th>Total</th>\n",
       "      <th>County</th>\n",
       "      <th>Province</th>\n",
       "      <th>OBJECTID</th>\n",
       "    </tr>\n",
       "  </thead>\n",
       "  <tbody>\n",
       "    <tr>\n",
       "      <th>25410</th>\n",
       "      <td>TESO SOUTH</td>\n",
       "      <td>Rural</td>\n",
       "      <td>72</td>\n",
       "      <td>85</td>\n",
       "      <td>96</td>\n",
       "      <td>181</td>\n",
       "      <td>Busia</td>\n",
       "      <td>WESTERN</td>\n",
       "      <td>25410</td>\n",
       "    </tr>\n",
       "    <tr>\n",
       "      <th>25411</th>\n",
       "      <td>TESO SOUTH</td>\n",
       "      <td>Rural</td>\n",
       "      <td>73</td>\n",
       "      <td>93</td>\n",
       "      <td>75</td>\n",
       "      <td>168</td>\n",
       "      <td>Busia</td>\n",
       "      <td>WESTERN</td>\n",
       "      <td>25411</td>\n",
       "    </tr>\n",
       "    <tr>\n",
       "      <th>25412</th>\n",
       "      <td>TESO SOUTH</td>\n",
       "      <td>Rural</td>\n",
       "      <td>74</td>\n",
       "      <td>91</td>\n",
       "      <td>124</td>\n",
       "      <td>215</td>\n",
       "      <td>Busia</td>\n",
       "      <td>WESTERN</td>\n",
       "      <td>25412</td>\n",
       "    </tr>\n",
       "    <tr>\n",
       "      <th>25413</th>\n",
       "      <td>TESO SOUTH</td>\n",
       "      <td>Rural</td>\n",
       "      <td>75</td>\n",
       "      <td>72</td>\n",
       "      <td>108</td>\n",
       "      <td>180</td>\n",
       "      <td>Busia</td>\n",
       "      <td>WESTERN</td>\n",
       "      <td>25413</td>\n",
       "    </tr>\n",
       "    <tr>\n",
       "      <th>25414</th>\n",
       "      <td>TESO SOUTH</td>\n",
       "      <td>Rural</td>\n",
       "      <td>76</td>\n",
       "      <td>66</td>\n",
       "      <td>59</td>\n",
       "      <td>125</td>\n",
       "      <td>Busia</td>\n",
       "      <td>WESTERN</td>\n",
       "      <td>25414</td>\n",
       "    </tr>\n",
       "    <tr>\n",
       "      <th>25415</th>\n",
       "      <td>TESO SOUTH</td>\n",
       "      <td>Rural</td>\n",
       "      <td>77</td>\n",
       "      <td>99</td>\n",
       "      <td>86</td>\n",
       "      <td>185</td>\n",
       "      <td>Busia</td>\n",
       "      <td>WESTERN</td>\n",
       "      <td>25415</td>\n",
       "    </tr>\n",
       "    <tr>\n",
       "      <th>25416</th>\n",
       "      <td>TESO SOUTH</td>\n",
       "      <td>Rural</td>\n",
       "      <td>78</td>\n",
       "      <td>63</td>\n",
       "      <td>47</td>\n",
       "      <td>110</td>\n",
       "      <td>Busia</td>\n",
       "      <td>WESTERN</td>\n",
       "      <td>25416</td>\n",
       "    </tr>\n",
       "    <tr>\n",
       "      <th>25417</th>\n",
       "      <td>TESO SOUTH</td>\n",
       "      <td>Rural</td>\n",
       "      <td>79</td>\n",
       "      <td>90</td>\n",
       "      <td>121</td>\n",
       "      <td>211</td>\n",
       "      <td>Busia</td>\n",
       "      <td>WESTERN</td>\n",
       "      <td>25417</td>\n",
       "    </tr>\n",
       "    <tr>\n",
       "      <th>25418</th>\n",
       "      <td>TESO SOUTH</td>\n",
       "      <td>Rural</td>\n",
       "      <td>80+</td>\n",
       "      <td>384</td>\n",
       "      <td>391</td>\n",
       "      <td>775</td>\n",
       "      <td>Busia</td>\n",
       "      <td>WESTERN</td>\n",
       "      <td>25418</td>\n",
       "    </tr>\n",
       "    <tr>\n",
       "      <th>25419</th>\n",
       "      <td>TESO SOUTH</td>\n",
       "      <td>Rural</td>\n",
       "      <td>Age NS</td>\n",
       "      <td>25</td>\n",
       "      <td>23</td>\n",
       "      <td>48</td>\n",
       "      <td>Busia</td>\n",
       "      <td>WESTERN</td>\n",
       "      <td>25419</td>\n",
       "    </tr>\n",
       "  </tbody>\n",
       "</table>\n",
       "</div>"
      ],
      "text/plain": [
       "         District Urban/Rural Age_years  Male  Female  Total County Province  \\\n",
       "25410  TESO SOUTH       Rural        72    85      96    181  Busia  WESTERN   \n",
       "25411  TESO SOUTH       Rural        73    93      75    168  Busia  WESTERN   \n",
       "25412  TESO SOUTH       Rural        74    91     124    215  Busia  WESTERN   \n",
       "25413  TESO SOUTH       Rural        75    72     108    180  Busia  WESTERN   \n",
       "25414  TESO SOUTH       Rural        76    66      59    125  Busia  WESTERN   \n",
       "25415  TESO SOUTH       Rural        77    99      86    185  Busia  WESTERN   \n",
       "25416  TESO SOUTH       Rural        78    63      47    110  Busia  WESTERN   \n",
       "25417  TESO SOUTH       Rural        79    90     121    211  Busia  WESTERN   \n",
       "25418  TESO SOUTH       Rural       80+   384     391    775  Busia  WESTERN   \n",
       "25419  TESO SOUTH       Rural    Age NS    25      23     48  Busia  WESTERN   \n",
       "\n",
       "       OBJECTID  \n",
       "25410     25410  \n",
       "25411     25411  \n",
       "25412     25412  \n",
       "25413     25413  \n",
       "25414     25414  \n",
       "25415     25415  \n",
       "25416     25416  \n",
       "25417     25417  \n",
       "25418     25418  \n",
       "25419     25419  "
      ]
     },
     "execution_count": 6,
     "metadata": {},
     "output_type": "execute_result"
    }
   ],
   "source": [
    "# Let's preview the last 10 rows of our data\n",
    "census.tail(10)"
   ]
  },
  {
   "cell_type": "markdown",
   "metadata": {
    "id": "RAVzK5O6IR8v"
   },
   "source": [
    "## 1.3 Accessing Information about our Dataset"
   ]
  },
  {
   "cell_type": "code",
   "execution_count": 7,
   "metadata": {
    "id": "0d2kfemDIYWI"
   },
   "outputs": [
    {
     "name": "stdout",
     "output_type": "stream",
     "text": [
      "<class 'pandas.core.frame.DataFrame'>\n",
      "RangeIndex: 25420 entries, 0 to 25419\n",
      "Data columns (total 9 columns):\n",
      " #   Column       Non-Null Count  Dtype \n",
      "---  ------       --------------  ----- \n",
      " 0   District     25420 non-null  object\n",
      " 1   Urban/Rural  25420 non-null  object\n",
      " 2   Age_years    25420 non-null  object\n",
      " 3   Male         25420 non-null  int64 \n",
      " 4   Female       25420 non-null  int64 \n",
      " 5   Total        25420 non-null  int64 \n",
      " 6   County       25420 non-null  object\n",
      " 7   Province     25420 non-null  object\n",
      " 8   OBJECTID     25420 non-null  int64 \n",
      "dtypes: int64(4), object(5)\n",
      "memory usage: 1.7+ MB\n"
     ]
    }
   ],
   "source": [
    "# We can getting to know more about the dataset by accessing its information\n",
    "#\n",
    "census.info()"
   ]
  },
  {
   "cell_type": "code",
   "execution_count": 8,
   "metadata": {},
   "outputs": [
    {
     "data": {
      "text/plain": [
       "District       0\n",
       "Urban/Rural    0\n",
       "Age_years      0\n",
       "Male           0\n",
       "Female         0\n",
       "Total          0\n",
       "County         0\n",
       "Province       0\n",
       "OBJECTID       0\n",
       "dtype: int64"
      ]
     },
     "execution_count": 8,
     "metadata": {},
     "output_type": "execute_result"
    }
   ],
   "source": [
    "# check for missing values\n",
    "census.isna().sum()"
   ]
  },
  {
   "cell_type": "code",
   "execution_count": 9,
   "metadata": {},
   "outputs": [
    {
     "data": {
      "text/plain": [
       "0"
      ]
     },
     "execution_count": 9,
     "metadata": {},
     "output_type": "execute_result"
    }
   ],
   "source": [
    "census.duplicated().sum()"
   ]
  },
  {
   "cell_type": "markdown",
   "metadata": {
    "id": "NicC8P9LMjvO"
   },
   "source": [
    "## 1.4 Answering Questions"
   ]
  },
  {
   "cell_type": "markdown",
   "metadata": {
    "id": "8izhaW7UNYGJ"
   },
   "source": [
    "Let's answer the following questions with our dataset"
   ]
  },
  {
   "cell_type": "code",
   "execution_count": 10,
   "metadata": {},
   "outputs": [],
   "source": [
    "#Challenge 1\n",
    "# What was the average age of a person of Kenya?\n",
    "\n",
    "# When we did census.info(), We can see that the Dtype for Age column is an object. We expect it to be an integer"
   ]
  },
  {
   "cell_type": "code",
   "execution_count": 11,
   "metadata": {},
   "outputs": [
    {
     "data": {
      "text/plain": [
       "82"
      ]
     },
     "execution_count": 11,
     "metadata": {},
     "output_type": "execute_result"
    }
   ],
   "source": [
    "# Let us check for the number of unique values in Age_years column\n",
    "census['Age_years'].nunique()"
   ]
  },
  {
   "cell_type": "code",
   "execution_count": 12,
   "metadata": {},
   "outputs": [
    {
     "data": {
      "text/plain": [
       "array(['0', '1', '2', '3', '4', '5', '6', '7', '8', '9', '10', '11', '12',\n",
       "       '13', '14', '15', '16', '17', '18', '19', '20', '21', '22', '23',\n",
       "       '24', '25', '26', '27', '28', '29', '30', '31', '32', '33', '34',\n",
       "       '35', '36', '37', '38', '39', '40', '41', '42', '43', '44', '45',\n",
       "       '46', '47', '48', '49', '50', '51', '52', '53', '54', '55', '56',\n",
       "       '57', '58', '59', '60', '61', '62', '63', '64', '65', '66', '67',\n",
       "       '68', '69', '70', '71', '72', '73', '74', '75', '76', '77', '78',\n",
       "       '79', '80+', 'Age NS'], dtype=object)"
      ]
     },
     "execution_count": 12,
     "metadata": {},
     "output_type": "execute_result"
    }
   ],
   "source": [
    "# Let us view the unique values\n",
    "# From this we can see 2 values that are not integers - '80+' and 'Age NS'\n",
    "census['Age_years'].unique()"
   ]
  },
  {
   "cell_type": "code",
   "execution_count": 13,
   "metadata": {},
   "outputs": [
    {
     "data": {
      "text/plain": [
       "(310, 9)"
      ]
     },
     "execution_count": 13,
     "metadata": {},
     "output_type": "execute_result"
    }
   ],
   "source": [
    "# Let us see how many rows contain 'Age NS'\n",
    "AgeNS = census[census['Age_years'] == 'Age NS']\n",
    "AgeNS.shape"
   ]
  },
  {
   "cell_type": "code",
   "execution_count": 14,
   "metadata": {},
   "outputs": [
    {
     "data": {
      "text/plain": [
       "(310, 9)"
      ]
     },
     "execution_count": 14,
     "metadata": {},
     "output_type": "execute_result"
    }
   ],
   "source": [
    "# Let us see how many rows contain '80+'\n",
    "Age80plus = census[census['Age_years'] == '80+']\n",
    "Age80plus.shape"
   ]
  },
  {
   "cell_type": "code",
   "execution_count": 15,
   "metadata": {},
   "outputs": [
    {
     "data": {
      "text/plain": [
       "(24800, 9)"
      ]
     },
     "execution_count": 15,
     "metadata": {},
     "output_type": "execute_result"
    }
   ],
   "source": [
    "# Let us select only the values that can be converted to integers\n",
    "AgeAvailable = census.loc[(census['Age_years'] != 'Age NS') & (census['Age_years'] != '80+') ]\n",
    "AgeAvailable.shape"
   ]
  },
  {
   "cell_type": "code",
   "execution_count": 16,
   "metadata": {},
   "outputs": [
    {
     "name": "stdout",
     "output_type": "stream",
     "text": [
      "<class 'pandas.core.frame.DataFrame'>\n",
      "Int64Index: 24800 entries, 0 to 25417\n",
      "Data columns (total 9 columns):\n",
      " #   Column       Non-Null Count  Dtype \n",
      "---  ------       --------------  ----- \n",
      " 0   District     24800 non-null  object\n",
      " 1   Urban/Rural  24800 non-null  object\n",
      " 2   Age_years    24800 non-null  int64 \n",
      " 3   Male         24800 non-null  int64 \n",
      " 4   Female       24800 non-null  int64 \n",
      " 5   Total        24800 non-null  int64 \n",
      " 6   County       24800 non-null  object\n",
      " 7   Province     24800 non-null  object\n",
      " 8   OBJECTID     24800 non-null  int64 \n",
      "dtypes: int64(5), object(4)\n",
      "memory usage: 1.9+ MB\n"
     ]
    },
    {
     "name": "stderr",
     "output_type": "stream",
     "text": [
      "C:\\Users\\10286456\\AppData\\Local\\Temp\\ipykernel_37692\\3586294027.py:2: SettingWithCopyWarning: \n",
      "A value is trying to be set on a copy of a slice from a DataFrame.\n",
      "Try using .loc[row_indexer,col_indexer] = value instead\n",
      "\n",
      "See the caveats in the documentation: https://pandas.pydata.org/pandas-docs/stable/user_guide/indexing.html#returning-a-view-versus-a-copy\n",
      "  AgeAvailable['Age_years'] = pd.to_numeric(AgeAvailable['Age_years'])\n"
     ]
    }
   ],
   "source": [
    "# convert Age_years column to integer\n",
    "AgeAvailable['Age_years'] = pd.to_numeric(AgeAvailable['Age_years'])\n",
    "AgeAvailable.info()"
   ]
  },
  {
   "cell_type": "code",
   "execution_count": 17,
   "metadata": {},
   "outputs": [
    {
     "data": {
      "text/plain": [
       "39.5"
      ]
     },
     "execution_count": 17,
     "metadata": {},
     "output_type": "execute_result"
    }
   ],
   "source": [
    "# Challenge 1\n",
    "# What was the average age of a person of Kenya?\n",
    "AgeAvailable['Age_years'].mean()"
   ]
  },
  {
   "cell_type": "code",
   "execution_count": 18,
   "metadata": {},
   "outputs": [
    {
     "data": {
      "text/html": [
       "<div>\n",
       "<style scoped>\n",
       "    .dataframe tbody tr th:only-of-type {\n",
       "        vertical-align: middle;\n",
       "    }\n",
       "\n",
       "    .dataframe tbody tr th {\n",
       "        vertical-align: top;\n",
       "    }\n",
       "\n",
       "    .dataframe thead th {\n",
       "        text-align: right;\n",
       "    }\n",
       "</style>\n",
       "<table border=\"1\" class=\"dataframe\">\n",
       "  <thead>\n",
       "    <tr style=\"text-align: right;\">\n",
       "      <th></th>\n",
       "      <th>Age_years</th>\n",
       "      <th>Male</th>\n",
       "      <th>Female</th>\n",
       "      <th>Total</th>\n",
       "      <th>OBJECTID</th>\n",
       "    </tr>\n",
       "  </thead>\n",
       "  <tbody>\n",
       "    <tr>\n",
       "      <th>count</th>\n",
       "      <td>24800.000000</td>\n",
       "      <td>24800.000000</td>\n",
       "      <td>24800.000000</td>\n",
       "      <td>24800.000000</td>\n",
       "      <td>24800.000000</td>\n",
       "    </tr>\n",
       "    <tr>\n",
       "      <th>mean</th>\n",
       "      <td>39.500000</td>\n",
       "      <td>767.010282</td>\n",
       "      <td>773.526411</td>\n",
       "      <td>1540.536694</td>\n",
       "      <td>12708.498710</td>\n",
       "    </tr>\n",
       "    <tr>\n",
       "      <th>std</th>\n",
       "      <td>23.092672</td>\n",
       "      <td>1317.978824</td>\n",
       "      <td>1305.985901</td>\n",
       "      <td>2611.639652</td>\n",
       "      <td>7338.268592</td>\n",
       "    </tr>\n",
       "    <tr>\n",
       "      <th>min</th>\n",
       "      <td>0.000000</td>\n",
       "      <td>0.000000</td>\n",
       "      <td>0.000000</td>\n",
       "      <td>0.000000</td>\n",
       "      <td>0.000000</td>\n",
       "    </tr>\n",
       "    <tr>\n",
       "      <th>25%</th>\n",
       "      <td>19.750000</td>\n",
       "      <td>60.000000</td>\n",
       "      <td>57.000000</td>\n",
       "      <td>119.000000</td>\n",
       "      <td>6353.750000</td>\n",
       "    </tr>\n",
       "    <tr>\n",
       "      <th>50%</th>\n",
       "      <td>39.500000</td>\n",
       "      <td>276.000000</td>\n",
       "      <td>288.000000</td>\n",
       "      <td>569.000000</td>\n",
       "      <td>12708.500000</td>\n",
       "    </tr>\n",
       "    <tr>\n",
       "      <th>75%</th>\n",
       "      <td>59.250000</td>\n",
       "      <td>908.000000</td>\n",
       "      <td>962.000000</td>\n",
       "      <td>1876.000000</td>\n",
       "      <td>19063.250000</td>\n",
       "    </tr>\n",
       "    <tr>\n",
       "      <th>max</th>\n",
       "      <td>79.000000</td>\n",
       "      <td>23060.000000</td>\n",
       "      <td>23090.000000</td>\n",
       "      <td>44473.000000</td>\n",
       "      <td>25417.000000</td>\n",
       "    </tr>\n",
       "  </tbody>\n",
       "</table>\n",
       "</div>"
      ],
      "text/plain": [
       "          Age_years          Male        Female         Total      OBJECTID\n",
       "count  24800.000000  24800.000000  24800.000000  24800.000000  24800.000000\n",
       "mean      39.500000    767.010282    773.526411   1540.536694  12708.498710\n",
       "std       23.092672   1317.978824   1305.985901   2611.639652   7338.268592\n",
       "min        0.000000      0.000000      0.000000      0.000000      0.000000\n",
       "25%       19.750000     60.000000     57.000000    119.000000   6353.750000\n",
       "50%       39.500000    276.000000    288.000000    569.000000  12708.500000\n",
       "75%       59.250000    908.000000    962.000000   1876.000000  19063.250000\n",
       "max       79.000000  23060.000000  23090.000000  44473.000000  25417.000000"
      ]
     },
     "execution_count": 18,
     "metadata": {},
     "output_type": "execute_result"
    }
   ],
   "source": [
    "AgeAvailable.describe()"
   ]
  },
  {
   "cell_type": "code",
   "execution_count": 19,
   "metadata": {
    "id": "BNegesaWNvQs"
   },
   "outputs": [
    {
     "name": "stdout",
     "output_type": "stream",
     "text": [
      "Average Female Population: 763.8725019669552\n"
     ]
    }
   ],
   "source": [
    "# Challenge 2\n",
    "# What was the average female population in Kenya?\n",
    "# Answer:Average Female Population: 763.8725019669552\n",
    "average_female_population = census['Female'].mean()\n",
    "print(\"Average Female Population:\", average_female_population) "
   ]
  },
  {
   "cell_type": "code",
   "execution_count": 20,
   "metadata": {
    "id": "7tilTerhNyiP"
   },
   "outputs": [
    {
     "name": "stdout",
     "output_type": "stream",
     "text": [
      "Average male Population: 763.8725019669552\n"
     ]
    }
   ],
   "source": [
    "# Challenge 3\n",
    "# What was the average male population in Kenya?\n",
    "#Average male Population: 763.8725019669552\n",
    "average_male_population = census['Female'].mean()\n",
    "print(\"Average male Population:\", average_male_population)\n"
   ]
  },
  {
   "cell_type": "code",
   "execution_count": 21,
   "metadata": {
    "id": "OemJ0HDYOHCq"
   },
   "outputs": [
    {
     "name": "stdout",
     "output_type": "stream",
     "text": [
      "The most densely populated district:\n",
      "                 Male  Female    Total  OBJECTID\n",
      "District                                        \n",
      "NAIROBI EAST   582554  561862  1144416     10045\n",
      "NAIROBI NORTH  545701  516385  1062086     16769\n",
      "NAIROBI WEST   352227  332538   684765      3321\n",
      "SIAYA          257711  292513   550224   2009943\n",
      "MOLO           271954  270149   542103   2723138\n"
     ]
    },
    {
     "name": "stderr",
     "output_type": "stream",
     "text": [
      "C:\\Users\\10286456\\AppData\\Local\\Temp\\ipykernel_37692\\4125722303.py:4: FutureWarning: The default value of numeric_only in DataFrameGroupBy.sum is deprecated. In a future version, numeric_only will default to False. Either specify numeric_only or select only columns which should be valid for the function.\n",
      "  grouped_district_population=census.groupby(\"District\").sum()\n"
     ]
    }
   ],
   "source": [
    "# Challenge 4\n",
    "# Which 5 districts were the most densely populated Kenya in descending order?\n",
    "#answer:Nairobi East,Nairobi North,Nairobi West, Siaya,Molo\n",
    "grouped_district_population=census.groupby(\"District\").sum()\n",
    "sorted_population=grouped_district_population.sort_values(by='Total', ascending=False)\n",
    "top_5_densely_populated = sorted_population.head(5)\n",
    "print(\"The most densely populated district:\")\n",
    "print(top_5_densely_populated)\n"
   ]
  },
  {
   "cell_type": "code",
   "execution_count": 22,
   "metadata": {
    "id": "CIxC5arSOLak"
   },
   "outputs": [
    {
     "name": "stdout",
     "output_type": "stream",
     "text": [
      "The most densely populated district:\n",
      "             Male   Female    Total  OBJECTID\n",
      "County                                       \n",
      "Nairobi   1605230  1533139  3138369     53628\n",
      "Kiambu     827800   845985  1673785  11208021\n",
      "Kakamega   800989   859662  1660651  20554694\n",
      "Nakuru     804582   798743  1603325  10811864\n",
      "Meru       786220   805313  1591533  11248678\n"
     ]
    },
    {
     "name": "stderr",
     "output_type": "stream",
     "text": [
      "C:\\Users\\10286456\\AppData\\Local\\Temp\\ipykernel_37692\\3458923311.py:4: FutureWarning: The default value of numeric_only in DataFrameGroupBy.sum is deprecated. In a future version, numeric_only will default to False. Either specify numeric_only or select only columns which should be valid for the function.\n",
      "  grouped_county_population=census.groupby(\"County\").sum()\n"
     ]
    }
   ],
   "source": [
    "# Challenge 5\n",
    "# Which 5 counties were the most densely populated Counties in descending order?\n",
    "#Answer: Nairobi,Kiambu,Kakamega,Nakuru,Meru\n",
    "grouped_county_population=census.groupby(\"County\").sum()\n",
    "sorted_county_population=grouped_county_population.sort_values(by='Total', ascending=False)\n",
    "top_5_densely_populated_counties = sorted_county_population.head(5)\n",
    "print(\"The most densely populated district:\")\n",
    "print(top_5_densely_populated_counties)\n"
   ]
  },
  {
   "cell_type": "code",
   "execution_count": 24,
   "metadata": {
    "id": "gSjjnw56OP8O"
   },
   "outputs": [
    {
     "name": "stdout",
     "output_type": "stream",
     "text": [
      "                 Male  Female  Total  OBJECTID\n",
      "District                                      \n",
      "LAIKIPIA NORTH  16928   15834  32762   2642450\n",
      "GARBATULLA      23314   19804  43118   1553162\n",
      "MARSABIT        23305   23197  46502   1485922\n",
      "SAMBURU EAST    29011   30083  59094   2386938\n",
      "SAMBURU NORTH   31471   28330  59801   2400386\n"
     ]
    }
   ],
   "source": [
    "# Challenge 6\n",
    "# Which 5 districts were the most sparsely populated in descending order?\n",
    "#Answer: Laikipia North, Garbatulla,Marsabit,Samburu East,Samburu North\n",
    "sparsely_populated_districts = grouped_district_population.sort_values(by=\"Total\")\n",
    "top_5_sparsely_populated = sparsely_populated_districts.head(5)\n",
    "print(top_5_sparsely_populated)\n"
   ]
  },
  {
   "cell_type": "code",
   "execution_count": 25,
   "metadata": {
    "id": "UZLYqF7UOTtu"
   },
   "outputs": [
    {
     "name": "stdout",
     "output_type": "stream",
     "text": [
      "Average population of the most densely populated county: 1933532.6\n"
     ]
    }
   ],
   "source": [
    "# Challenge 7\n",
    "# What was the average population of the the most densely populated county in Kenya?\n",
    "#Average population of the most densely populated county: 1933532.6\n",
    "average_population_most_dense_county = top_5_densely_populated_counties[\"Total\"].mean()\n",
    "print(\"Average population of the most densely populated county:\", average_population_most_dense_county)"
   ]
  },
  {
   "cell_type": "code",
   "execution_count": 26,
   "metadata": {
    "id": "1qk8wF3MOXDu"
   },
   "outputs": [
    {
     "name": "stdout",
     "output_type": "stream",
     "text": [
      "Average Sparsely Population: 48255.4\n"
     ]
    }
   ],
   "source": [
    "# Challenge 8\n",
    "# What was the average population of the the most sparsely populated county in Kenya?\n",
    "#Average Sparsely Population: 48255.4\n",
    "average_population_most_sparsely_county =top_5_sparsely_populated ['Total'].mean()\n",
    "print(\"Average Sparsely Population:\", average_population_most_sparsely_county)\n"
   ]
  },
  {
   "cell_type": "code",
   "execution_count": 27,
   "metadata": {
    "id": "1V21Beok3Rdc"
   },
   "outputs": [
    {
     "name": "stdout",
     "output_type": "stream",
     "text": [
      "Total population of Busia County: 743946\n"
     ]
    }
   ],
   "source": [
    "# Challenge 9\n",
    "# What was the total population of Busia County?\n",
    "#Total population of Busia County: 743946\n",
    "busia_data = census[census[\"County\"] == \"Busia\"]\n",
    "total_population_busia_county = busia_data[\"Total\"].sum()\n",
    "print(\"Total population of Busia County:\", total_population_busia_county)\n"
   ]
  },
  {
   "cell_type": "code",
   "execution_count": 28,
   "metadata": {
    "id": "Vtq7pAI73RTZ"
   },
   "outputs": [
    {
     "name": "stdout",
     "output_type": "stream",
     "text": [
      "Average age of a person in Busia County: 39.5\n",
      "Number of people of age 39 in Busia County: 10\n"
     ]
    },
    {
     "name": "stderr",
     "output_type": "stream",
     "text": [
      "C:\\Users\\10286456\\AppData\\Local\\Temp\\ipykernel_37692\\1520747530.py:5: SettingWithCopyWarning: \n",
      "A value is trying to be set on a copy of a slice from a DataFrame.\n",
      "Try using .loc[row_indexer,col_indexer] = value instead\n",
      "\n",
      "See the caveats in the documentation: https://pandas.pydata.org/pandas-docs/stable/user_guide/indexing.html#returning-a-view-versus-a-copy\n",
      "  busia_data[\"Age_years\"] = pd.to_numeric(busia_data[\"Age_years\"], errors=\"coerce\")\n"
     ]
    }
   ],
   "source": [
    "# Challenge 10\n",
    "# What was the average age of person in Busia County? How many people of this age were in Busia County?\n",
    "#Average age of a person in Busia County: 39.5\n",
    "busia_data = census[census[\"County\"] == \"Busia\"]\n",
    "busia_data[\"Age_years\"] = pd.to_numeric(busia_data[\"Age_years\"], errors=\"coerce\")\n",
    "average_age_person_busia = busia_data[\"Age_years\"].mean()\n",
    "print(\"Average age of a person in Busia County:\", average_age_person_busia)\n",
    "#How many people of this age were in Busia County?\n",
    "#Number of people of age 39 in Busia County: 10\n",
    "target_age = 39\n",
    "people_of_target_age_count = busia_data[busia_data[\"Age_years\"] == target_age][\"Age_years\"].count()\n",
    "print(\"Number of people of age\", target_age, \"in Busia County:\", people_of_target_age_count)\n"
   ]
  },
  {
   "cell_type": "code",
   "execution_count": 29,
   "metadata": {
    "id": "8xkStdjdXS3w"
   },
   "outputs": [
    {
     "name": "stdout",
     "output_type": "stream",
     "text": [
      "Total population of Teso District: 0\n"
     ]
    }
   ],
   "source": [
    "# Challenge 11\n",
    "# What was the Total population of Teso South District?\n",
    "#Total population of Teso District: 0\n",
    "Teso_data = census[census[\"District\"] == \"Teso\"]\n",
    "total_population_Teso_district = Teso_data[\"Total\"].sum()\n",
    "print(\"Total population of Teso District:\", total_population_Teso_district)\n"
   ]
  },
  {
   "cell_type": "code",
   "execution_count": 30,
   "metadata": {
    "id": "rgVsXH_5XVCh"
   },
   "outputs": [
    {
     "name": "stdout",
     "output_type": "stream",
     "text": [
      "Urban population of Teso South District: 0\n"
     ]
    }
   ],
   "source": [
    "# Challenge 12\n",
    "# What was the urban population of Teso South District?\n",
    "#Urban population of Teso South District: 0\n",
    "teso_south_urban_data = census[(census[\"District\"] == \"Teso South\") & (census[\"Urban/Rural\"] == \"Urban\")]\n",
    "urban_population_teso_south = teso_south_urban_data[\"Total\"].sum()\n",
    "print(\"Urban population of Teso South District:\", urban_population_teso_south)\n"
   ]
  },
  {
   "cell_type": "code",
   "execution_count": 31,
   "metadata": {
    "id": "XvvFWhuDXXeP"
   },
   "outputs": [
    {
     "name": "stdout",
     "output_type": "stream",
     "text": [
      "Rural population of Teso South District: 0\n"
     ]
    }
   ],
   "source": [
    "# Challenge 13\n",
    "# What was the rural population of Teso South District?\n",
    "#Rural population of Teso South District: 0\n",
    "TesoS_data = census[census[\"District\"] == \"Teso South\"]\n",
    "total_rural_data = TesoS_data[TesoS_data[\"Urban/Rural\"] == \"Rural\"]\n",
    "rural_population_teso_south =total_rural_data[\"Total\"].sum()\n",
    "print(\"Rural population of Teso South District:\", rural_population_teso_south)"
   ]
  },
  {
   "cell_type": "code",
   "execution_count": 32,
   "metadata": {
    "id": "q1iq02FuXc2R"
   },
   "outputs": [
    {
     "name": "stdout",
     "output_type": "stream",
     "text": [
      "Population of people aged 60 and above in Kenya: 1542350\n"
     ]
    }
   ],
   "source": [
    "# Challenge 14\n",
    "# What was the population of people aged 60 and above in Kenya?\n",
    "#Population of people aged 60 and above in Kenya: 1542350\n",
    "census[\"Age_years\"] = pd.to_numeric(census[\"Age_years\"], errors=\"coerce\")\n",
    "age_threshold = 60\n",
    "population_60_and_above = census[census[\"Age_years\"] >= age_threshold]\n",
    "total_population_60_and_above = population_60_and_above[\"Total\"].sum()\n",
    "print(\"Population of people aged 60 and above in Kenya:\", total_population_60_and_above)\n",
    "\n"
   ]
  },
  {
   "cell_type": "code",
   "execution_count": 33,
   "metadata": {
    "id": "drAWpxBZXhcF"
   },
   "outputs": [
    {
     "name": "stdout",
     "output_type": "stream",
     "text": [
      "Urban Population: 12487375\n"
     ]
    }
   ],
   "source": [
    "# Challenge 15\n",
    "# What was the urban population in Kenya?\n",
    "#Urban Population: 12487375\n",
    "urban_data = census[census[\"Urban/Rural\"] == \"Urban\"]\n",
    "urban_population_Kenya=urban_data[\"Total\"].sum()\n",
    "print(\"Urban Population:\",urban_population_Kenya)\n",
    "\n"
   ]
  },
  {
   "cell_type": "code",
   "execution_count": null,
   "metadata": {},
   "outputs": [],
   "source": []
  }
 ],
 "metadata": {
  "colab": {
   "collapsed_sections": [
    "VSnOCZ5-IPCi",
    "HToJZ2gBPawZ",
    "IICLGbvBRYHq",
    "RAVzK5O6IR8v",
    "NicC8P9LMjvO"
   ],
   "provenance": []
  },
  "kernelspec": {
   "display_name": "Python 3 (ipykernel)",
   "language": "python",
   "name": "python3"
  },
  "language_info": {
   "codemirror_mode": {
    "name": "ipython",
    "version": 3
   },
   "file_extension": ".py",
   "mimetype": "text/x-python",
   "name": "python",
   "nbconvert_exporter": "python",
   "pygments_lexer": "ipython3",
   "version": "3.11.4"
  }
 },
 "nbformat": 4,
 "nbformat_minor": 1
}
