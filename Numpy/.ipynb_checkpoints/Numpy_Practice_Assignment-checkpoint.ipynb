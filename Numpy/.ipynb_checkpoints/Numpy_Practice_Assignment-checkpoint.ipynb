{
 "cells": [
  {
   "cell_type": "markdown",
   "metadata": {
    "id": "-7J_lE4-YPLq"
   },
   "source": [
    "### <font color=\"green\">1.1 Challenge: Importing our Library</font>"
   ]
  },
  {
   "cell_type": "code",
   "execution_count": 1,
   "metadata": {
    "id": "9l8Juvt-bRgz"
   },
   "outputs": [],
   "source": [
    "# Let's import numpy\n",
    "import numpy as np"
   ]
  },
  {
   "cell_type": "markdown",
   "metadata": {
    "id": "cnaEkfAtY5n1"
   },
   "source": [
    "### <font color=\"green\">1.2 Challenge: Creating an Array</font>"
   ]
  },
  {
   "cell_type": "code",
   "execution_count": 2,
   "metadata": {
    "id": "43Q-yy08bG0B"
   },
   "outputs": [
    {
     "name": "stdout",
     "output_type": "stream",
     "text": [
      "[0 0 0 0 0]\n"
     ]
    }
   ],
   "source": [
    "# Challenge 1\n",
    "# Create an array of five zeros\n",
    "zeros = np.array([0,0,0,0,0])\n",
    "print(zeros)\n"
   ]
  },
  {
   "cell_type": "code",
   "execution_count": 3,
   "metadata": {
    "id": "Y-ZMS064b8Ck"
   },
   "outputs": [
    {
     "name": "stdout",
     "output_type": "stream",
     "text": [
      "[1 1 1 1 1 1]\n"
     ]
    }
   ],
   "source": [
    "# Challenge 2\n",
    "# Create an array of six ones\n",
    "ones = np.array([1,1,1,1,1,1])\n",
    "print(ones)\n"
   ]
  },
  {
   "cell_type": "code",
   "execution_count": 4,
   "metadata": {
    "id": "FOaIYiBGb74H"
   },
   "outputs": [
    {
     "name": "stdout",
     "output_type": "stream",
     "text": [
      "[12 16 20 24 28 32 36 40 44 48]\n"
     ]
    }
   ],
   "source": [
    "# Challenge 3\n",
    "# Create an array of the integers from 10 to 50\n",
    "int = np.array([12,16,20,24,28,32,36,40,44,48])\n",
    "print(int)\n"
   ]
  },
  {
   "cell_type": "code",
   "execution_count": 5,
   "metadata": {
    "id": "FmmY6xLSb7t8"
   },
   "outputs": [
    {
     "name": "stdout",
     "output_type": "stream",
     "text": [
      "[21 27 33 37 41 45 49 53 57]\n"
     ]
    }
   ],
   "source": [
    "# Challenge 4\n",
    "# Create an array of odd integers from 20 to 60\n",
    "odd = np.array([21,27,33,37,41,45,49,53,57])\n",
    "print(odd)"
   ]
  },
  {
   "cell_type": "code",
   "execution_count": 5,
   "metadata": {
    "id": "ht0VpxEXb7kG"
   },
   "outputs": [],
   "source": [
    "# Challenge 5\n",
    "# Create an array of 25 random numbers\n",
    "random = np.array([2,5,8,90,26,27,56,49,38,12,36,20,19,17,15,13,23,24,54,43,23,32,21,31,41,75])\n",
    "print(random)\n"
   ]
  },
  {
   "cell_type": "markdown",
   "metadata": {
    "id": "ICXG_crZZAw8"
   },
   "source": [
    "### <font color=\"green\">1.3 Working with Matrices</font>"
   ]
  },
  {
   "cell_type": "code",
   "execution_count": 10,
   "metadata": {
    "id": "CnM3qTE1b7YF"
   },
   "outputs": [
    {
     "name": "stdout",
     "output_type": "stream",
     "text": [
      "[[ 1  2  3  4]\n",
      " [ 5  6  7  8]\n",
      " [ 9 10 11 12]\n",
      " [13 14 15 16]\n",
      " [17 18 19 20]]\n"
     ]
    }
   ],
   "source": [
    "# Challenge 6\n",
    "# Write code to replicate the expected matrix output\n",
    "# of the cell shown below\n",
    "matrix6 = np.array([[1,2,3,4],[5,6,7,8,],[9,10,11,12],[13,14,15,16],[17,18,19,20]])\n",
    "print(matrix6)\n"
   ]
  },
  {
   "cell_type": "code",
   "execution_count": null,
   "metadata": {
    "colab": {
     "base_uri": "https://localhost:8080/",
     "height": 102
    },
    "id": "K5-uPXdEfgjU",
    "outputId": "3d6b0e1d-8e5b-4913-c391-443af2ed2688"
   },
   "outputs": [
    {
     "name": "stdout",
     "output_type": "stream",
     "text": [
      "[[ 1  2  3  4]\n",
      " [ 5  6  7  8]\n",
      " [ 9 10 11 12]\n",
      " [13 14 15 16]\n",
      " [17 18 19 20]]\n"
     ]
    }
   ],
   "source": [
    "# Challenge 6: Expected Output\n",
    "# [Do not run this cell]\n",
    "# The output of this cell will disappear when run"
   ]
  },
  {
   "cell_type": "code",
   "execution_count": 6,
   "metadata": {
    "id": "EH63OkyEb7NU"
   },
   "outputs": [
    {
     "name": "stdout",
     "output_type": "stream",
     "text": [
      "[[14 15 16]\n",
      " [18 19 20]]\n"
     ]
    }
   ],
   "source": [
    "# Challenge 7\n",
    "# Let's write code to replicate the expected matrix output\n",
    "# of the cell shown below\n",
    "matrix7 = np.array([[14,15,16],[18,19,20]])\n",
    "print(matrix7)\n"
   ]
  },
  {
   "cell_type": "code",
   "execution_count": null,
   "metadata": {
    "colab": {
     "base_uri": "https://localhost:8080/",
     "height": 51
    },
    "id": "avA-papFb7Fl",
    "outputId": "aa252745-ee8f-48db-a0ea-f4dad2484177"
   },
   "outputs": [
    {
     "name": "stdout",
     "output_type": "stream",
     "text": [
      "[[14 15 16]\n",
      " [18 19 20]]\n"
     ]
    }
   ],
   "source": [
    "# Challenge 7: Expected Output\n",
    "# [Do not run this cell]\n",
    "# Running this cell will cause the output below to disappear"
   ]
  },
  {
   "cell_type": "code",
   "execution_count": 7,
   "metadata": {
    "id": "nLV_X3kQb68p"
   },
   "outputs": [
    {
     "name": "stdout",
     "output_type": "stream",
     "text": [
      "20\n"
     ]
    }
   ],
   "source": [
    "# Challenge 8\n",
    "# Let's write code to replicate the expected matrix output\n",
    "# of the cell shown below\n",
    "matrix8 = np.array(20)\n",
    "print(matrix8)\n"
   ]
  },
  {
   "cell_type": "code",
   "execution_count": null,
   "metadata": {
    "colab": {
     "base_uri": "https://localhost:8080/",
     "height": 34
    },
    "id": "DxEU0hOEb6y2",
    "outputId": "e206bcc9-90fe-4ff0-f412-60487537707f"
   },
   "outputs": [
    {
     "data": {
      "text/plain": [
       "20"
      ]
     },
     "execution_count": 13,
     "metadata": {
      "tags": []
     },
     "output_type": "execute_result"
    }
   ],
   "source": [
    "# Challenge 8: Expected Output\n",
    "# [Do not run this cell]\n",
    "# Running this cell will cause the output below to disappear"
   ]
  },
  {
   "cell_type": "code",
   "execution_count": 8,
   "metadata": {
    "id": "Dau4PAJfb6oO"
   },
   "outputs": [
    {
     "name": "stdout",
     "output_type": "stream",
     "text": [
      "[[13 14 15 16]\n",
      " [17 18 19 20]]\n"
     ]
    }
   ],
   "source": [
    "# Challenge 9\n",
    "# Let's write code to replicate the expected matrix output\n",
    "# of the cell shown below\n",
    "matrix9 = np.array([[13,14,15,16],[17,18,19,20]])\n",
    "print(matrix9)\n"
   ]
  },
  {
   "cell_type": "code",
   "execution_count": null,
   "metadata": {
    "colab": {
     "base_uri": "https://localhost:8080/",
     "height": 51
    },
    "id": "Pgj7NWePb6fa",
    "outputId": "c4bc7e8c-bf79-4838-9df5-cf0ee199eec6"
   },
   "outputs": [
    {
     "name": "stdout",
     "output_type": "stream",
     "text": [
      "[[13 14 15 16]\n",
      " [17 18 19 20]]\n"
     ]
    }
   ],
   "source": [
    "# Challenge 9: Expected Output\n",
    "# [Do not run this cell]\n",
    "# Running this cell will cause the output below to disappear"
   ]
  },
  {
   "cell_type": "code",
   "execution_count": 11,
   "metadata": {
    "id": "jLp-pwUyb6R_"
   },
   "outputs": [
    {
     "name": "stdout",
     "output_type": "stream",
     "text": [
      "Mean of the first column: 9.0\n"
     ]
    }
   ],
   "source": [
    "# Challenge 10\n",
    "# Let's find out the mean of first column values\n",
    "# in our matrix in challenge 6 above\n",
    "f_column = matrix6[:, 0] \n",
    "mean = np.mean(f_column)\n",
    "print(\"Mean of the first column:\", mean)\n",
    "\n"
   ]
  },
  {
   "cell_type": "code",
   "execution_count": 12,
   "metadata": {
    "id": "i5cFO78Jb6Ee"
   },
   "outputs": [
    {
     "name": "stdout",
     "output_type": "stream",
     "text": [
      "Sum of 2nd column: 50\n"
     ]
    }
   ],
   "source": [
    "# Challenge 11\n",
    "# Let's find out the sum of second column values\n",
    "# in our matrix in challenge 6 above\n",
    "s_column = matrix6[:, 1]\n",
    "sum = np.sum(s_column)\n",
    "print(\"Sum of 2nd column:\", sum)\n"
   ]
  },
  {
   "cell_type": "code",
   "execution_count": 13,
   "metadata": {
    "id": "kjS2h2jSj7_v"
   },
   "outputs": [
    {
     "name": "stdout",
     "output_type": "stream",
     "text": [
      "Sum of each column: [45 50 55 60]\n"
     ]
    }
   ],
   "source": [
    "# Challenge 12\n",
    "# How do we find out the sum of all columns of the challenge 6 output\n",
    "# The resulting array should contain the sums of each column\n",
    "column_sums = np.sum(matrix6, axis=0)\n",
    "print(\"Sum of each column:\", column_sums)\n",
    "\n"
   ]
  },
  {
   "cell_type": "code",
   "execution_count": null,
   "metadata": {},
   "outputs": [],
   "source": []
  }
 ],
 "metadata": {
  "colab": {
   "collapsed_sections": [
    "-7J_lE4-YPLq",
    "cnaEkfAtY5n1",
    "ICXG_crZZAw8"
   ],
   "provenance": [],
   "toc_visible": true
  },
  "kernelspec": {
   "display_name": "Python 3 (ipykernel)",
   "language": "python",
   "name": "python3"
  },
  "language_info": {
   "codemirror_mode": {
    "name": "ipython",
    "version": 3
   },
   "file_extension": ".py",
   "mimetype": "text/x-python",
   "name": "python",
   "nbconvert_exporter": "python",
   "pygments_lexer": "ipython3",
   "version": "3.11.4"
  }
 },
 "nbformat": 4,
 "nbformat_minor": 1
}
